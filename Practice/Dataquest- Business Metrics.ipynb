{
 "cells": [
  {
   "cell_type": "code",
   "execution_count": 1,
   "metadata": {},
   "outputs": [],
   "source": [
    "import pandas as pd"
   ]
  },
  {
   "cell_type": "code",
   "execution_count": 2,
   "metadata": {},
   "outputs": [],
   "source": [
    "df = pd.read_csv('nps.csv', parse_dates=['event_date'])"
   ]
  },
  {
   "cell_type": "code",
   "execution_count": 3,
   "metadata": {},
   "outputs": [
    {
     "data": {
      "text/html": [
       "<div>\n",
       "<style scoped>\n",
       "    .dataframe tbody tr th:only-of-type {\n",
       "        vertical-align: middle;\n",
       "    }\n",
       "\n",
       "    .dataframe tbody tr th {\n",
       "        vertical-align: top;\n",
       "    }\n",
       "\n",
       "    .dataframe thead th {\n",
       "        text-align: right;\n",
       "    }\n",
       "</style>\n",
       "<table border=\"1\" class=\"dataframe\">\n",
       "  <thead>\n",
       "    <tr style=\"text-align: right;\">\n",
       "      <th></th>\n",
       "      <th>event_date</th>\n",
       "      <th>user_id</th>\n",
       "      <th>score</th>\n",
       "    </tr>\n",
       "  </thead>\n",
       "  <tbody>\n",
       "    <tr>\n",
       "      <th>0</th>\n",
       "      <td>2020-01-01 19:00:51</td>\n",
       "      <td>290067447</td>\n",
       "      <td>8</td>\n",
       "    </tr>\n",
       "    <tr>\n",
       "      <th>1</th>\n",
       "      <td>2020-01-02 17:34:43</td>\n",
       "      <td>223014806</td>\n",
       "      <td>10</td>\n",
       "    </tr>\n",
       "    <tr>\n",
       "      <th>2</th>\n",
       "      <td>2020-01-02 19:11:55</td>\n",
       "      <td>187864388</td>\n",
       "      <td>10</td>\n",
       "    </tr>\n",
       "    <tr>\n",
       "      <th>3</th>\n",
       "      <td>2020-01-02 19:27:00</td>\n",
       "      <td>318758952</td>\n",
       "      <td>8</td>\n",
       "    </tr>\n",
       "    <tr>\n",
       "      <th>4</th>\n",
       "      <td>2020-01-02 21:42:19</td>\n",
       "      <td>189933311</td>\n",
       "      <td>0</td>\n",
       "    </tr>\n",
       "  </tbody>\n",
       "</table>\n",
       "</div>"
      ],
      "text/plain": [
       "           event_date    user_id  score\n",
       "0 2020-01-01 19:00:51  290067447      8\n",
       "1 2020-01-02 17:34:43  223014806     10\n",
       "2 2020-01-02 19:11:55  187864388     10\n",
       "3 2020-01-02 19:27:00  318758952      8\n",
       "4 2020-01-02 21:42:19  189933311      0"
      ]
     },
     "execution_count": 3,
     "metadata": {},
     "output_type": "execute_result"
    }
   ],
   "source": [
    "df.head()"
   ]
  },
  {
   "cell_type": "code",
   "execution_count": 4,
   "metadata": {},
   "outputs": [],
   "source": [
    "#catagorize customer score feedback\n",
    "def categorize(score):\n",
    "    if score >= 0  and score <=6:\n",
    "        return 'Detractor'\n",
    "    elif score == 7 or score == 8:\n",
    "        return 'Passive'\n",
    "    elif score == 9 or score == 10:\n",
    "        return 'Promoter'"
   ]
  },
  {
   "cell_type": "code",
   "execution_count": 5,
   "metadata": {},
   "outputs": [
    {
     "name": "stdout",
     "output_type": "stream",
     "text": [
      "0       2020\n",
      "1       2020\n",
      "2       2020\n",
      "3       2020\n",
      "4       2020\n",
      "        ... \n",
      "3321    2020\n",
      "3322    2020\n",
      "3323    2020\n",
      "3324    2020\n",
      "3325    2020\n",
      "Name: event_date, Length: 3326, dtype: int64 0        1\n",
      "1        1\n",
      "2        1\n",
      "3        1\n",
      "4        1\n",
      "        ..\n",
      "3321    12\n",
      "3322    12\n",
      "3323    12\n",
      "3324    12\n",
      "3325    12\n",
      "Name: event_date, Length: 3326, dtype: int64\n"
     ]
    }
   ],
   "source": [
    "year = df['event_date'].dt.year\n",
    "month = df['event_date'].dt.month\n",
    "print(year, month)"
   ]
  },
  {
   "cell_type": "code",
   "execution_count": 6,
   "metadata": {},
   "outputs": [],
   "source": [
    "df['yearmonth'] = 100*year + month\n",
    "df['category'] = df['score'].apply(categorize)"
   ]
  },
  {
   "cell_type": "code",
   "execution_count": 7,
   "metadata": {},
   "outputs": [
    {
     "data": {
      "text/html": [
       "<div>\n",
       "<style scoped>\n",
       "    .dataframe tbody tr th:only-of-type {\n",
       "        vertical-align: middle;\n",
       "    }\n",
       "\n",
       "    .dataframe tbody tr th {\n",
       "        vertical-align: top;\n",
       "    }\n",
       "\n",
       "    .dataframe thead th {\n",
       "        text-align: right;\n",
       "    }\n",
       "</style>\n",
       "<table border=\"1\" class=\"dataframe\">\n",
       "  <thead>\n",
       "    <tr style=\"text-align: right;\">\n",
       "      <th>category</th>\n",
       "      <th>Detractor</th>\n",
       "      <th>Passive</th>\n",
       "      <th>Promoter</th>\n",
       "    </tr>\n",
       "    <tr>\n",
       "      <th>yearmonth</th>\n",
       "      <th></th>\n",
       "      <th></th>\n",
       "      <th></th>\n",
       "    </tr>\n",
       "  </thead>\n",
       "  <tbody>\n",
       "    <tr>\n",
       "      <th>202001</th>\n",
       "      <td>31</td>\n",
       "      <td>82</td>\n",
       "      <td>215</td>\n",
       "    </tr>\n",
       "    <tr>\n",
       "      <th>202002</th>\n",
       "      <td>22</td>\n",
       "      <td>90</td>\n",
       "      <td>161</td>\n",
       "    </tr>\n",
       "    <tr>\n",
       "      <th>202003</th>\n",
       "      <td>33</td>\n",
       "      <td>72</td>\n",
       "      <td>125</td>\n",
       "    </tr>\n",
       "    <tr>\n",
       "      <th>202004</th>\n",
       "      <td>36</td>\n",
       "      <td>87</td>\n",
       "      <td>178</td>\n",
       "    </tr>\n",
       "    <tr>\n",
       "      <th>202005</th>\n",
       "      <td>33</td>\n",
       "      <td>83</td>\n",
       "      <td>191</td>\n",
       "    </tr>\n",
       "    <tr>\n",
       "      <th>202006</th>\n",
       "      <td>32</td>\n",
       "      <td>80</td>\n",
       "      <td>215</td>\n",
       "    </tr>\n",
       "    <tr>\n",
       "      <th>202007</th>\n",
       "      <td>48</td>\n",
       "      <td>95</td>\n",
       "      <td>258</td>\n",
       "    </tr>\n",
       "    <tr>\n",
       "      <th>202008</th>\n",
       "      <td>40</td>\n",
       "      <td>103</td>\n",
       "      <td>256</td>\n",
       "    </tr>\n",
       "    <tr>\n",
       "      <th>202009</th>\n",
       "      <td>18</td>\n",
       "      <td>68</td>\n",
       "      <td>135</td>\n",
       "    </tr>\n",
       "    <tr>\n",
       "      <th>202010</th>\n",
       "      <td>36</td>\n",
       "      <td>83</td>\n",
       "      <td>177</td>\n",
       "    </tr>\n",
       "    <tr>\n",
       "      <th>202011</th>\n",
       "      <td>18</td>\n",
       "      <td>27</td>\n",
       "      <td>72</td>\n",
       "    </tr>\n",
       "    <tr>\n",
       "      <th>202012</th>\n",
       "      <td>22</td>\n",
       "      <td>42</td>\n",
       "      <td>62</td>\n",
       "    </tr>\n",
       "  </tbody>\n",
       "</table>\n",
       "</div>"
      ],
      "text/plain": [
       "category   Detractor  Passive  Promoter\n",
       "yearmonth                              \n",
       "202001            31       82       215\n",
       "202002            22       90       161\n",
       "202003            33       72       125\n",
       "202004            36       87       178\n",
       "202005            33       83       191\n",
       "202006            32       80       215\n",
       "202007            48       95       258\n",
       "202008            40      103       256\n",
       "202009            18       68       135\n",
       "202010            36       83       177\n",
       "202011            18       27        72\n",
       "202012            22       42        62"
      ]
     },
     "execution_count": 7,
     "metadata": {},
     "output_type": "execute_result"
    }
   ],
   "source": [
    "# Net Promoter Score 'NPS'\n",
    "nps = df.pivot_table(index='yearmonth', columns='category',aggfunc='size')\n",
    "nps"
   ]
  },
  {
   "cell_type": "code",
   "execution_count": 8,
   "metadata": {},
   "outputs": [
    {
     "data": {
      "text/plain": [
       "yearmonth\n",
       "202001    328\n",
       "202002    273\n",
       "202003    230\n",
       "202004    301\n",
       "202005    307\n",
       "202006    327\n",
       "202007    401\n",
       "202008    399\n",
       "202009    221\n",
       "202010    296\n",
       "202011    117\n",
       "202012    126\n",
       "Name: total_responses, dtype: int64"
      ]
     },
     "execution_count": 8,
     "metadata": {},
     "output_type": "execute_result"
    }
   ],
   "source": [
    "nps['total_responses'] = nps.sum(axis=1)\n",
    "nps['total_responses']"
   ]
  },
  {
   "cell_type": "code",
   "execution_count": 9,
   "metadata": {},
   "outputs": [
    {
     "data": {
      "text/html": [
       "<div>\n",
       "<style scoped>\n",
       "    .dataframe tbody tr th:only-of-type {\n",
       "        vertical-align: middle;\n",
       "    }\n",
       "\n",
       "    .dataframe tbody tr th {\n",
       "        vertical-align: top;\n",
       "    }\n",
       "\n",
       "    .dataframe thead th {\n",
       "        text-align: right;\n",
       "    }\n",
       "</style>\n",
       "<table border=\"1\" class=\"dataframe\">\n",
       "  <thead>\n",
       "    <tr style=\"text-align: right;\">\n",
       "      <th>category</th>\n",
       "      <th>Detractor</th>\n",
       "      <th>Passive</th>\n",
       "      <th>Promoter</th>\n",
       "      <th>total_responses</th>\n",
       "      <th>nps</th>\n",
       "    </tr>\n",
       "    <tr>\n",
       "      <th>yearmonth</th>\n",
       "      <th></th>\n",
       "      <th></th>\n",
       "      <th></th>\n",
       "      <th></th>\n",
       "      <th></th>\n",
       "    </tr>\n",
       "  </thead>\n",
       "  <tbody>\n",
       "    <tr>\n",
       "      <th>202001</th>\n",
       "      <td>31</td>\n",
       "      <td>82</td>\n",
       "      <td>215</td>\n",
       "      <td>328</td>\n",
       "      <td>56</td>\n",
       "    </tr>\n",
       "    <tr>\n",
       "      <th>202002</th>\n",
       "      <td>22</td>\n",
       "      <td>90</td>\n",
       "      <td>161</td>\n",
       "      <td>273</td>\n",
       "      <td>50</td>\n",
       "    </tr>\n",
       "    <tr>\n",
       "      <th>202003</th>\n",
       "      <td>33</td>\n",
       "      <td>72</td>\n",
       "      <td>125</td>\n",
       "      <td>230</td>\n",
       "      <td>40</td>\n",
       "    </tr>\n",
       "    <tr>\n",
       "      <th>202004</th>\n",
       "      <td>36</td>\n",
       "      <td>87</td>\n",
       "      <td>178</td>\n",
       "      <td>301</td>\n",
       "      <td>47</td>\n",
       "    </tr>\n",
       "    <tr>\n",
       "      <th>202005</th>\n",
       "      <td>33</td>\n",
       "      <td>83</td>\n",
       "      <td>191</td>\n",
       "      <td>307</td>\n",
       "      <td>51</td>\n",
       "    </tr>\n",
       "    <tr>\n",
       "      <th>202006</th>\n",
       "      <td>32</td>\n",
       "      <td>80</td>\n",
       "      <td>215</td>\n",
       "      <td>327</td>\n",
       "      <td>55</td>\n",
       "    </tr>\n",
       "    <tr>\n",
       "      <th>202007</th>\n",
       "      <td>48</td>\n",
       "      <td>95</td>\n",
       "      <td>258</td>\n",
       "      <td>401</td>\n",
       "      <td>52</td>\n",
       "    </tr>\n",
       "    <tr>\n",
       "      <th>202008</th>\n",
       "      <td>40</td>\n",
       "      <td>103</td>\n",
       "      <td>256</td>\n",
       "      <td>399</td>\n",
       "      <td>54</td>\n",
       "    </tr>\n",
       "    <tr>\n",
       "      <th>202009</th>\n",
       "      <td>18</td>\n",
       "      <td>68</td>\n",
       "      <td>135</td>\n",
       "      <td>221</td>\n",
       "      <td>52</td>\n",
       "    </tr>\n",
       "    <tr>\n",
       "      <th>202010</th>\n",
       "      <td>36</td>\n",
       "      <td>83</td>\n",
       "      <td>177</td>\n",
       "      <td>296</td>\n",
       "      <td>47</td>\n",
       "    </tr>\n",
       "    <tr>\n",
       "      <th>202011</th>\n",
       "      <td>18</td>\n",
       "      <td>27</td>\n",
       "      <td>72</td>\n",
       "      <td>117</td>\n",
       "      <td>46</td>\n",
       "    </tr>\n",
       "    <tr>\n",
       "      <th>202012</th>\n",
       "      <td>22</td>\n",
       "      <td>42</td>\n",
       "      <td>62</td>\n",
       "      <td>126</td>\n",
       "      <td>31</td>\n",
       "    </tr>\n",
       "  </tbody>\n",
       "</table>\n",
       "</div>"
      ],
      "text/plain": [
       "category   Detractor  Passive  Promoter  total_responses  nps\n",
       "yearmonth                                                    \n",
       "202001            31       82       215              328   56\n",
       "202002            22       90       161              273   50\n",
       "202003            33       72       125              230   40\n",
       "202004            36       87       178              301   47\n",
       "202005            33       83       191              307   51\n",
       "202006            32       80       215              327   55\n",
       "202007            48       95       258              401   52\n",
       "202008            40      103       256              399   54\n",
       "202009            18       68       135              221   52\n",
       "202010            36       83       177              296   47\n",
       "202011            18       27        72              117   46\n",
       "202012            22       42        62              126   31"
      ]
     },
     "execution_count": 9,
     "metadata": {},
     "output_type": "execute_result"
    }
   ],
   "source": [
    "nps['nps'] = (nps['Promoter']-nps['Detractor'])/nps['total_responses']\n",
    "nps['nps'] = (100*nps['nps']).astype(int)\n",
    "nps"
   ]
  },
  {
   "cell_type": "code",
   "execution_count": 10,
   "metadata": {},
   "outputs": [
    {
     "data": {
      "text/plain": [
       "Text(0.5, 0, '')"
      ]
     },
     "execution_count": 10,
     "metadata": {},
     "output_type": "execute_result"
    },
    {
     "data": {
      "image/png": "[encoded data removed]",
      "text/plain": [
       "<Figure size 864x432 with 1 Axes>"
      ]
     },
     "metadata": {
      "needs_background": "light"
     },
     "output_type": "display_data"
    }
   ],
   "source": [
    "ax = nps.reset_index().plot(kind=\"line\", x=\"yearmonth\",y=\"nps\",\n",
    "                            figsize=(12,6), legend=False\n",
    "                           )\n",
    "ax.set_xticks(nps.index)\n",
    "ax.set_xticklabels(nps.index, rotation=45)\n",
    "ax.axes.get_xaxis().set_label_text(\"\")"
   ]
  },
  {
   "cell_type": "code",
   "execution_count": 11,
   "metadata": {},
   "outputs": [
    {
     "data": {
      "text/html": [
       "<div>\n",
       "<style scoped>\n",
       "    .dataframe tbody tr th:only-of-type {\n",
       "        vertical-align: middle;\n",
       "    }\n",
       "\n",
       "    .dataframe tbody tr th {\n",
       "        vertical-align: top;\n",
       "    }\n",
       "\n",
       "    .dataframe thead th {\n",
       "        text-align: right;\n",
       "    }\n",
       "</style>\n",
       "<table border=\"1\" class=\"dataframe\">\n",
       "  <thead>\n",
       "    <tr style=\"text-align: right;\">\n",
       "      <th></th>\n",
       "      <th>id</th>\n",
       "      <th>customer_id</th>\n",
       "      <th>end_date</th>\n",
       "      <th>start_date</th>\n",
       "      <th>subscription_period</th>\n",
       "      <th>price</th>\n",
       "    </tr>\n",
       "  </thead>\n",
       "  <tbody>\n",
       "    <tr>\n",
       "      <th>0</th>\n",
       "      <td>5</td>\n",
       "      <td>1337</td>\n",
       "      <td>2014-12-28 01:40:57</td>\n",
       "      <td>2014-10-25 12:39:18</td>\n",
       "      <td>monthly</td>\n",
       "      <td>50</td>\n",
       "    </tr>\n",
       "    <tr>\n",
       "      <th>1</th>\n",
       "      <td>28</td>\n",
       "      <td>1338</td>\n",
       "      <td>2014-11-19 01:48:05</td>\n",
       "      <td>2014-10-17 13:47:59</td>\n",
       "      <td>monthly</td>\n",
       "      <td>50</td>\n",
       "    </tr>\n",
       "    <tr>\n",
       "      <th>2</th>\n",
       "      <td>44</td>\n",
       "      <td>1339</td>\n",
       "      <td>2014-11-01 20:56:37</td>\n",
       "      <td>2014-10-30 05:50:54</td>\n",
       "      <td>annual</td>\n",
       "      <td>500</td>\n",
       "    </tr>\n",
       "    <tr>\n",
       "      <th>3</th>\n",
       "      <td>85</td>\n",
       "      <td>1340</td>\n",
       "      <td>2014-12-09 02:51:57</td>\n",
       "      <td>2013-12-05 14:51:57</td>\n",
       "      <td>annual</td>\n",
       "      <td>500</td>\n",
       "    </tr>\n",
       "    <tr>\n",
       "      <th>4</th>\n",
       "      <td>168</td>\n",
       "      <td>1341</td>\n",
       "      <td>2015-11-16 09:19:29</td>\n",
       "      <td>2014-11-13 20:19:23</td>\n",
       "      <td>annual</td>\n",
       "      <td>500</td>\n",
       "    </tr>\n",
       "    <tr>\n",
       "      <th>...</th>\n",
       "      <td>...</td>\n",
       "      <td>...</td>\n",
       "      <td>...</td>\n",
       "      <td>...</td>\n",
       "      <td>...</td>\n",
       "      <td>...</td>\n",
       "    </tr>\n",
       "    <tr>\n",
       "      <th>10492</th>\n",
       "      <td>18069</td>\n",
       "      <td>12456</td>\n",
       "      <td>2015-01-20 13:54:39</td>\n",
       "      <td>2014-09-19 00:38:00</td>\n",
       "      <td>monthly</td>\n",
       "      <td>50</td>\n",
       "    </tr>\n",
       "    <tr>\n",
       "      <th>10493</th>\n",
       "      <td>18068</td>\n",
       "      <td>12457</td>\n",
       "      <td>2015-01-20 13:38:29</td>\n",
       "      <td>2014-10-19 00:23:00</td>\n",
       "      <td>monthly</td>\n",
       "      <td>50</td>\n",
       "    </tr>\n",
       "    <tr>\n",
       "      <th>10494</th>\n",
       "      <td>319</td>\n",
       "      <td>12458</td>\n",
       "      <td>2015-01-20 10:16:19</td>\n",
       "      <td>2014-11-18 21:09:16</td>\n",
       "      <td>monthly</td>\n",
       "      <td>50</td>\n",
       "    </tr>\n",
       "    <tr>\n",
       "      <th>10495</th>\n",
       "      <td>343</td>\n",
       "      <td>12460</td>\n",
       "      <td>2015-01-20 18:50:56</td>\n",
       "      <td>2014-11-19 05:50:32</td>\n",
       "      <td>monthly</td>\n",
       "      <td>50</td>\n",
       "    </tr>\n",
       "    <tr>\n",
       "      <th>10496</th>\n",
       "      <td>7054</td>\n",
       "      <td>12461</td>\n",
       "      <td>2015-01-20 20:22:43</td>\n",
       "      <td>2014-09-19 07:19:31</td>\n",
       "      <td>monthly</td>\n",
       "      <td>50</td>\n",
       "    </tr>\n",
       "  </tbody>\n",
       "</table>\n",
       "<p>10497 rows × 6 columns</p>\n",
       "</div>"
      ],
      "text/plain": [
       "          id  customer_id            end_date          start_date  \\\n",
       "0          5         1337 2014-12-28 01:40:57 2014-10-25 12:39:18   \n",
       "1         28         1338 2014-11-19 01:48:05 2014-10-17 13:47:59   \n",
       "2         44         1339 2014-11-01 20:56:37 2014-10-30 05:50:54   \n",
       "3         85         1340 2014-12-09 02:51:57 2013-12-05 14:51:57   \n",
       "4        168         1341 2015-11-16 09:19:29 2014-11-13 20:19:23   \n",
       "...      ...          ...                 ...                 ...   \n",
       "10492  18069        12456 2015-01-20 13:54:39 2014-09-19 00:38:00   \n",
       "10493  18068        12457 2015-01-20 13:38:29 2014-10-19 00:23:00   \n",
       "10494    319        12458 2015-01-20 10:16:19 2014-11-18 21:09:16   \n",
       "10495    343        12460 2015-01-20 18:50:56 2014-11-19 05:50:32   \n",
       "10496   7054        12461 2015-01-20 20:22:43 2014-09-19 07:19:31   \n",
       "\n",
       "      subscription_period  price  \n",
       "0                 monthly     50  \n",
       "1                 monthly     50  \n",
       "2                  annual    500  \n",
       "3                  annual    500  \n",
       "4                  annual    500  \n",
       "...                   ...    ...  \n",
       "10492             monthly     50  \n",
       "10493             monthly     50  \n",
       "10494             monthly     50  \n",
       "10495             monthly     50  \n",
       "10496             monthly     50  \n",
       "\n",
       "[10497 rows x 6 columns]"
      ]
     },
     "execution_count": 11,
     "metadata": {},
     "output_type": "execute_result"
    }
   ],
   "source": [
    "subs = pd.read_csv('muscle_labs.csv', parse_dates=['end_date','start_date'])\n",
    "subs"
   ]
  },
  {
   "cell_type": "code",
   "execution_count": 12,
   "metadata": {},
   "outputs": [
    {
     "data": {
      "text/plain": [
       "0        201412\n",
       "1        201411\n",
       "2        201411\n",
       "3        201412\n",
       "4        201511\n",
       "          ...  \n",
       "10492    201501\n",
       "10493    201501\n",
       "10494    201501\n",
       "10495    201501\n",
       "10496    201501\n",
       "Name: churn_month, Length: 10497, dtype: int64"
      ]
     },
     "execution_count": 12,
     "metadata": {},
     "output_type": "execute_result"
    }
   ],
   "source": [
    "year = subs['end_date'].dt.year\n",
    "month = subs['end_date'].dt.month\n",
    "subs['churn_month'] = 100*year + month\n",
    "subs['churn_month']"
   ]
  },
  {
   "cell_type": "code",
   "execution_count": 13,
   "metadata": {},
   "outputs": [
    {
     "data": {
      "text/html": [
       "<div>\n",
       "<style scoped>\n",
       "    .dataframe tbody tr th:only-of-type {\n",
       "        vertical-align: middle;\n",
       "    }\n",
       "\n",
       "    .dataframe tbody tr th {\n",
       "        vertical-align: top;\n",
       "    }\n",
       "\n",
       "    .dataframe thead th {\n",
       "        text-align: right;\n",
       "    }\n",
       "</style>\n",
       "<table border=\"1\" class=\"dataframe\">\n",
       "  <thead>\n",
       "    <tr style=\"text-align: right;\">\n",
       "      <th></th>\n",
       "      <th>total_churned</th>\n",
       "    </tr>\n",
       "    <tr>\n",
       "      <th>churn_month</th>\n",
       "      <th></th>\n",
       "    </tr>\n",
       "  </thead>\n",
       "  <tbody>\n",
       "    <tr>\n",
       "      <th>201103</th>\n",
       "      <td>8</td>\n",
       "    </tr>\n",
       "    <tr>\n",
       "      <th>201104</th>\n",
       "      <td>16</td>\n",
       "    </tr>\n",
       "    <tr>\n",
       "      <th>201105</th>\n",
       "      <td>29</td>\n",
       "    </tr>\n",
       "    <tr>\n",
       "      <th>201106</th>\n",
       "      <td>27</td>\n",
       "    </tr>\n",
       "    <tr>\n",
       "      <th>201107</th>\n",
       "      <td>37</td>\n",
       "    </tr>\n",
       "  </tbody>\n",
       "</table>\n",
       "</div>"
      ],
      "text/plain": [
       "             total_churned\n",
       "churn_month               \n",
       "201103                   8\n",
       "201104                  16\n",
       "201105                  29\n",
       "201106                  27\n",
       "201107                  37"
      ]
     },
     "execution_count": 13,
     "metadata": {},
     "output_type": "execute_result"
    }
   ],
   "source": [
    "monthly_churn = pd.DataFrame({'total_churned':subs.groupby('churn_month').size()})\n",
    "monthly_churn.head()"
   ]
  },
  {
   "cell_type": "code",
   "execution_count": 14,
   "metadata": {},
   "outputs": [
    {
     "data": {
      "text/plain": [
       "[2011, 2012, 2013, 2014]"
      ]
     },
     "execution_count": 14,
     "metadata": {},
     "output_type": "execute_result"
    }
   ],
   "source": [
    "years = list(range(2011,2015))\n",
    "years"
   ]
  },
  {
   "cell_type": "code",
   "execution_count": 15,
   "metadata": {},
   "outputs": [],
   "source": [
    "months = list(range(1,13))"
   ]
  },
  {
   "cell_type": "code",
   "execution_count": 19,
   "metadata": {},
   "outputs": [],
   "source": [
    "yearmonths = [y*100+m for y in years for m in months]\n",
    "yearmonths = yearmonths[:-1]"
   ]
  },
  {
   "cell_type": "code",
   "execution_count": 20,
   "metadata": {},
   "outputs": [],
   "source": [
    "churn = pd.DataFrame({'yearmonths':yearmonths})"
   ]
  },
  {
   "cell_type": "code",
   "execution_count": 21,
   "metadata": {},
   "outputs": [
    {
     "data": {
      "text/html": [
       "<div>\n",
       "<style scoped>\n",
       "    .dataframe tbody tr th:only-of-type {\n",
       "        vertical-align: middle;\n",
       "    }\n",
       "\n",
       "    .dataframe tbody tr th {\n",
       "        vertical-align: top;\n",
       "    }\n",
       "\n",
       "    .dataframe thead th {\n",
       "        text-align: right;\n",
       "    }\n",
       "</style>\n",
       "<table border=\"1\" class=\"dataframe\">\n",
       "  <thead>\n",
       "    <tr style=\"text-align: right;\">\n",
       "      <th></th>\n",
       "      <th>yearmonths</th>\n",
       "      <th>total_churned</th>\n",
       "    </tr>\n",
       "  </thead>\n",
       "  <tbody>\n",
       "    <tr>\n",
       "      <th>0</th>\n",
       "      <td>201101</td>\n",
       "      <td>NaN</td>\n",
       "    </tr>\n",
       "    <tr>\n",
       "      <th>1</th>\n",
       "      <td>201102</td>\n",
       "      <td>NaN</td>\n",
       "    </tr>\n",
       "    <tr>\n",
       "      <th>2</th>\n",
       "      <td>201103</td>\n",
       "      <td>8.0</td>\n",
       "    </tr>\n",
       "    <tr>\n",
       "      <th>3</th>\n",
       "      <td>201104</td>\n",
       "      <td>16.0</td>\n",
       "    </tr>\n",
       "    <tr>\n",
       "      <th>4</th>\n",
       "      <td>201105</td>\n",
       "      <td>29.0</td>\n",
       "    </tr>\n",
       "  </tbody>\n",
       "</table>\n",
       "</div>"
      ],
      "text/plain": [
       "   yearmonths  total_churned\n",
       "0      201101            NaN\n",
       "1      201102            NaN\n",
       "2      201103            8.0\n",
       "3      201104           16.0\n",
       "4      201105           29.0"
      ]
     },
     "execution_count": 21,
     "metadata": {},
     "output_type": "execute_result"
    }
   ],
   "source": [
    "churn = churn.merge(monthly_churn,how='left' , left_on='yearmonths', right_index=True)\n",
    "churn.head()"
   ]
  },
  {
   "cell_type": "code",
   "execution_count": 22,
   "metadata": {},
   "outputs": [],
   "source": [
    "churn.fillna(0,inplace=True)\n",
    "churn['total_churned'] = churn['total_churned'].astype(int)"
   ]
  },
  {
   "cell_type": "code",
   "execution_count": 23,
   "metadata": {},
   "outputs": [],
   "source": [
    "import datetime as dt"
   ]
  },
  {
   "cell_type": "code",
   "execution_count": 24,
   "metadata": {},
   "outputs": [],
   "source": [
    "def get_customers(yearmonth):\n",
    "    year = yearmonth//100\n",
    "    month = yearmonth-year*100\n",
    "    date = dt.datetime(year, month, 1)\n",
    "    return ((subs['start_date']<date) & (date<=subs['end_date'])).sum()\n",
    "    "
   ]
  },
  {
   "cell_type": "code",
   "execution_count": 26,
   "metadata": {},
   "outputs": [
    {
     "data": {
      "text/plain": [
       "0        0\n",
       "1       17\n",
       "2       47\n",
       "3       82\n",
       "4      105\n",
       "5      155\n",
       "6      194\n",
       "7      220\n",
       "8      247\n",
       "9      254\n",
       "10     273\n",
       "11     341\n",
       "12     299\n",
       "13     334\n",
       "14     384\n",
       "15     437\n",
       "16     427\n",
       "17     480\n",
       "18     515\n",
       "19     538\n",
       "20     546\n",
       "21     591\n",
       "22     586\n",
       "23     607\n",
       "24     634\n",
       "25     752\n",
       "26     775\n",
       "27     869\n",
       "28     882\n",
       "29    1018\n",
       "30    1063\n",
       "31    1111\n",
       "32    1142\n",
       "33    1221\n",
       "34    1314\n",
       "35    1412\n",
       "36    1598\n",
       "37    2004\n",
       "38    2426\n",
       "39    2809\n",
       "40    3385\n",
       "41    3751\n",
       "42    4150\n",
       "43    4521\n",
       "44    5038\n",
       "45    5599\n",
       "46    6290\n",
       "Name: total_customers, dtype: int64"
      ]
     },
     "execution_count": 26,
     "metadata": {},
     "output_type": "execute_result"
    }
   ],
   "source": [
    "churn['total_customers'] = churn['yearmonths'].apply(get_customers)\n",
    "churn['total_customers']"
   ]
  },
  {
   "cell_type": "code",
   "execution_count": 28,
   "metadata": {},
   "outputs": [
    {
     "data": {
      "text/plain": [
       "0         NaN\n",
       "1    0.000000\n",
       "2    0.170213\n",
       "3    0.195122\n",
       "4    0.276190\n",
       "Name: churn_rate, dtype: float64"
      ]
     },
     "execution_count": 28,
     "metadata": {},
     "output_type": "execute_result"
    }
   ],
   "source": [
    "churn['churn_rate'] = churn['total_churned']/churn['total_customers']\n",
    "churn['churn_rate'].head()"
   ]
  },
  {
   "cell_type": "code",
   "execution_count": null,
   "metadata": {},
   "outputs": [],
   "source": [
    "churn['yearmonth'] = churn['yearmonths'].astype(str)\n",
    "arange = __import__(\"numpy\").arange\n",
    "Ellipse = __import__(\"matplotlib\").patches.Ellipse\n",
    "ax = churn.plot(x=\"yearmonth\", y=\"churn_rate\", figsize=(12,6), rot=45, marker=\".\")\n",
    "start, end = ax.get_xlim()\n",
    "ax.get_xticks()\n",
    "ax.set_xticks(arange(2, end, 3))\n",
    "ax.set_xticklabels(yearmonths[2::3])\n",
    "circle = Ellipse((35, churn.loc[churn.yearmonth == \"201312\", \"churn_rate\"].iloc[0]),\n",
    "                 5, 0.065, color='sandybrown', fill=False\n",
    "                   )\n",
    "ax.add_artist(circle)\n",
    "ax.xaxis.label.set_visible(False)\n",
    "ax.spines['top'].set_visible(False)\n",
    "ax.spines['right'].set_visible(False)\n",
    "ax.get_legend().remove()"
   ]
  },
  {
   "cell_type": "code",
   "execution_count": null,
   "metadata": {},
   "outputs": [],
   "source": []
  }
 ],
 "metadata": {
  "kernelspec": {
   "display_name": "Python 3",
   "language": "python",
   "name": "python3"
  },
  "language_info": {
   "codemirror_mode": {
    "name": "ipython",
    "version": 3
   },
   "file_extension": ".py",
   "mimetype": "text/x-python",
   "name": "python",
   "nbconvert_exporter": "python",
   "pygments_lexer": "ipython3",
   "version": "3.8.5"
  }
 },
 "nbformat": 4,
 "nbformat_minor": 4
}
