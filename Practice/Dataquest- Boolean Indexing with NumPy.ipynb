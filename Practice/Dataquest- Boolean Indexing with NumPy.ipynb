{
 "cells": [
  {
   "cell_type": "code",
   "execution_count": 2,
   "metadata": {},
   "outputs": [
    {
     "data": {
      "text/plain": [
       "array([[      nan,       nan,       nan, ...,       nan,       nan,\n",
       "              nan],\n",
       "       [2.016e+03, 1.000e+00, 1.000e+00, ..., 1.165e+01, 6.999e+01,\n",
       "        1.000e+00],\n",
       "       [2.016e+03, 1.000e+00, 1.000e+00, ..., 8.000e+00, 5.430e+01,\n",
       "        1.000e+00],\n",
       "       ...,\n",
       "       [2.016e+03, 6.000e+00, 3.000e+01, ..., 5.000e+00, 6.334e+01,\n",
       "        1.000e+00],\n",
       "       [2.016e+03, 6.000e+00, 3.000e+01, ..., 8.950e+00, 4.475e+01,\n",
       "        1.000e+00],\n",
       "       [2.016e+03, 6.000e+00, 3.000e+01, ..., 0.000e+00, 5.484e+01,\n",
       "        2.000e+00]])"
      ]
     },
     "execution_count": 2,
     "metadata": {},
     "output_type": "execute_result"
    }
   ],
   "source": [
    "import numpy as np\n",
    "taxi = np.genfromtxt('nyc_taxis.csv',delimiter=',') #to read files into NumPy ndarrays.\n",
    "taxi"
   ]
  },
  {
   "cell_type": "code",
   "execution_count": 3,
   "metadata": {},
   "outputs": [
    {
     "data": {
      "text/plain": [
       "(2014, 15)"
      ]
     },
     "execution_count": 3,
     "metadata": {},
     "output_type": "execute_result"
    }
   ],
   "source": [
    "taxi.shape"
   ]
  },
  {
   "cell_type": "code",
   "execution_count": 5,
   "metadata": {},
   "outputs": [
    {
     "data": {
      "text/plain": [
       "array([[2.016e+03, 1.000e+00, 1.000e+00, ..., 1.165e+01, 6.999e+01,\n",
       "        1.000e+00],\n",
       "       [2.016e+03, 1.000e+00, 1.000e+00, ..., 8.000e+00, 5.430e+01,\n",
       "        1.000e+00],\n",
       "       [2.016e+03, 1.000e+00, 1.000e+00, ..., 0.000e+00, 3.780e+01,\n",
       "        2.000e+00],\n",
       "       ...,\n",
       "       [2.016e+03, 6.000e+00, 3.000e+01, ..., 5.000e+00, 6.334e+01,\n",
       "        1.000e+00],\n",
       "       [2.016e+03, 6.000e+00, 3.000e+01, ..., 8.950e+00, 4.475e+01,\n",
       "        1.000e+00],\n",
       "       [2.016e+03, 6.000e+00, 3.000e+01, ..., 0.000e+00, 5.484e+01,\n",
       "        2.000e+00]])"
      ]
     },
     "execution_count": 5,
     "metadata": {},
     "output_type": "execute_result"
    }
   ],
   "source": [
    "import csv\n",
    "# import nyc_taxi.csv as a list of lists\n",
    "f = open(\"nyc_taxis.csv\", \"r\")\n",
    "taxi_list = list(csv.reader(f))\n",
    "\n",
    "# remove the header row\n",
    "taxi_list = taxi_list[1:]\n",
    "\n",
    "# convert all values to floats\n",
    "converted_taxi_list = []\n",
    "for row in taxi_list:\n",
    "    converted_row = []\n",
    "    for item in row:\n",
    "        converted_row.append(float(item))\n",
    "    converted_taxi_list.append(converted_row)\n",
    "\n",
    "# start writing your code below this comment\n",
    "taxi = np.array(converted_taxi_list)\n",
    "taxi"
   ]
  },
  {
   "cell_type": "code",
   "execution_count": 10,
   "metadata": {},
   "outputs": [
    {
     "data": {
      "text/plain": [
       "(2013, 15)"
      ]
     },
     "execution_count": 10,
     "metadata": {},
     "output_type": "execute_result"
    }
   ],
   "source": [
    "taxi = np.genfromtxt('nyc_taxis.csv',delimiter=',',skip_header=1) #skip_header is number of rows to skip not index\n",
    "taxi.shape"
   ]
  },
  {
   "cell_type": "code",
   "execution_count": 13,
   "metadata": {},
   "outputs": [
    {
     "name": "stdout",
     "output_type": "stream",
     "text": [
      "a_bool: [ True  True False False False]\n",
      "b_bool: [ True  True False  True]\n",
      "c_bool: [False  True False  True]\n"
     ]
    }
   ],
   "source": [
    "a = np.array([1,2,3,4,5])\n",
    "b = np.array(['blue','blue','red','blue'])\n",
    "c = np.array([80,103.4,96.9,200.3])\n",
    "a_bool = a<3\n",
    "print('a_bool:',a_bool)\n",
    "b_bool = b == 'blue'\n",
    "print('b_bool:',b_bool)\n",
    "c_bool = c>100\n",
    "print('c_bool:',c_bool)"
   ]
  },
  {
   "cell_type": "code",
   "execution_count": 18,
   "metadata": {},
   "outputs": [
    {
     "data": {
      "text/plain": [
       "176"
      ]
     },
     "execution_count": 18,
     "metadata": {},
     "output_type": "execute_result"
    }
   ],
   "source": [
    "#select using boolean\n",
    "pickup_month = taxi[:,1] #month in 2nd column\n",
    "february_bool = pickup_month == 2\n",
    "february = pickup_month[february_bool]\n",
    "february_rides = february.shape[0]\n",
    "february_rides"
   ]
  },
  {
   "cell_type": "code",
   "execution_count": 19,
   "metadata": {},
   "outputs": [
    {
     "data": {
      "text/plain": [
       "array([[4.000e+00, 2.000e+00, 2.145e+01, 2.004e+03, 5.200e+01, 8.000e-01,\n",
       "        0.000e+00, 5.280e+01, 1.056e+02]])"
      ]
     },
     "execution_count": 19,
     "metadata": {},
     "output_type": "execute_result"
    }
   ],
   "source": [
    "tip_amount = taxi[:,12]\n",
    "tip_bool = tip_amount>50\n",
    "top_tips = taxi[tip_bool,5:14]\n",
    "top_tips"
   ]
  },
  {
   "cell_type": "code",
   "execution_count": 20,
   "metadata": {},
   "outputs": [
    {
     "data": {
      "text/plain": [
       "array([[16.  ,  1.  ,  1.  , ..., 11.65, 69.99,  1.  ],\n",
       "       [16.  ,  1.  ,  1.  , ...,  8.  , 54.3 ,  1.  ],\n",
       "       [16.  ,  1.  ,  1.  , ...,  0.  , 37.8 ,  2.  ],\n",
       "       ...,\n",
       "       [16.  ,  6.  , 30.  , ...,  5.  , 63.34,  1.  ],\n",
       "       [16.  ,  6.  , 30.  , ...,  8.95, 44.75,  1.  ],\n",
       "       [16.  ,  6.  , 30.  , ...,  0.  , 54.84,  2.  ]])"
      ]
     },
     "execution_count": 20,
     "metadata": {},
     "output_type": "execute_result"
    }
   ],
   "source": [
    "taxi_modified = taxi.copy()\n",
    "taxi_modified[1066,5]=1\n",
    "taxi_modified[:,0]=16\n",
    "taxi_modified[550:552,7] = taxi_modified[:,7].mean()\n",
    "taxi_modified"
   ]
  },
  {
   "cell_type": "code",
   "execution_count": 22,
   "metadata": {},
   "outputs": [
    {
     "data": {
      "text/plain": [
       "array([69.99, 54.3 , 37.8 , ..., 63.34, 44.75, 54.84])"
      ]
     },
     "execution_count": 22,
     "metadata": {},
     "output_type": "execute_result"
    }
   ],
   "source": [
    "taxi_copy = taxi.copy()\n",
    "total_amount = taxi_copy[:,13]\n",
    "total_amount[total_amount<0]=0\n",
    "total_amount"
   ]
  },
  {
   "cell_type": "code",
   "execution_count": 24,
   "metadata": {},
   "outputs": [
    {
     "data": {
      "text/plain": [
       "array([[0.],\n",
       "       [0.],\n",
       "       [0.],\n",
       "       ...,\n",
       "       [0.],\n",
       "       [0.],\n",
       "       [0.]])"
      ]
     },
     "execution_count": 24,
     "metadata": {},
     "output_type": "execute_result"
    }
   ],
   "source": [
    "zeros = np.zeros([taxi.shape[0],1]) #create a new column filled with zeros\n",
    "zeros"
   ]
  },
  {
   "cell_type": "code",
   "execution_count": 26,
   "metadata": {},
   "outputs": [
    {
     "data": {
      "text/plain": [
       "array([[2.016e+03, 1.000e+00, 1.000e+00, ..., 6.999e+01, 1.000e+00,\n",
       "        0.000e+00],\n",
       "       [2.016e+03, 1.000e+00, 1.000e+00, ..., 5.430e+01, 1.000e+00,\n",
       "        0.000e+00],\n",
       "       [2.016e+03, 1.000e+00, 1.000e+00, ..., 3.780e+01, 2.000e+00,\n",
       "        0.000e+00],\n",
       "       ...,\n",
       "       [2.016e+03, 6.000e+00, 3.000e+01, ..., 6.334e+01, 1.000e+00,\n",
       "        0.000e+00],\n",
       "       [2.016e+03, 6.000e+00, 3.000e+01, ..., 4.475e+01, 1.000e+00,\n",
       "        0.000e+00],\n",
       "       [2.016e+03, 6.000e+00, 3.000e+01, ..., 5.484e+01, 2.000e+00,\n",
       "        0.000e+00]])"
      ]
     },
     "execution_count": 26,
     "metadata": {},
     "output_type": "execute_result"
    }
   ],
   "source": [
    "taxi_modified = np.concatenate([taxi,zeros],axis=1)\n",
    "taxi_modified"
   ]
  },
  {
   "cell_type": "code",
   "execution_count": 27,
   "metadata": {},
   "outputs": [
    {
     "data": {
      "text/plain": [
       "array([[2.016e+03, 1.000e+00, 1.000e+00, ..., 6.999e+01, 1.000e+00,\n",
       "        1.000e+00],\n",
       "       [2.016e+03, 1.000e+00, 1.000e+00, ..., 5.430e+01, 1.000e+00,\n",
       "        1.000e+00],\n",
       "       [2.016e+03, 1.000e+00, 1.000e+00, ..., 3.780e+01, 2.000e+00,\n",
       "        1.000e+00],\n",
       "       ...,\n",
       "       [2.016e+03, 6.000e+00, 3.000e+01, ..., 6.334e+01, 1.000e+00,\n",
       "        1.000e+00],\n",
       "       [2.016e+03, 6.000e+00, 3.000e+01, ..., 4.475e+01, 1.000e+00,\n",
       "        1.000e+00],\n",
       "       [2.016e+03, 6.000e+00, 3.000e+01, ..., 5.484e+01, 2.000e+00,\n",
       "        1.000e+00]])"
      ]
     },
     "execution_count": 27,
     "metadata": {},
     "output_type": "execute_result"
    }
   ],
   "source": [
    "taxi_modified[taxi_modified[:,5]==2,15]=1\n",
    "taxi_modified[taxi_modified[:,5]==3,15]=1\n",
    "taxi_modified[taxi_modified[:,5]==5,15]=1\n",
    "taxi_modified"
   ]
  },
  {
   "cell_type": "code",
   "execution_count": 31,
   "metadata": {},
   "outputs": [
    {
     "name": "stdout",
     "output_type": "stream",
     "text": [
      "[[2.016e+03 1.000e+00 1.000e+00 ... 5.280e+01 1.056e+02 1.000e+00]\n",
      " [2.016e+03 1.000e+00 1.000e+00 ... 0.000e+00 3.730e+01 2.000e+00]\n",
      " [2.016e+03 1.000e+00 1.000e+00 ... 0.000e+00 5.834e+01 2.000e+00]\n",
      " ...\n",
      " [2.016e+03 6.000e+00 3.000e+01 ... 0.000e+00 3.800e+00 2.000e+00]\n",
      " [2.016e+03 6.000e+00 3.000e+01 ... 0.000e+00 5.834e+01 2.000e+00]\n",
      " [2.016e+03 6.000e+00 3.000e+01 ... 5.660e+00 6.400e+01 1.000e+00]]\n"
     ]
    },
    {
     "data": {
      "text/plain": [
       "285"
      ]
     },
     "execution_count": 31,
     "metadata": {},
     "output_type": "execute_result"
    }
   ],
   "source": [
    "jfk = taxi[taxi[:,6]==2]\n",
    "print(jfk)\n",
    "jfk_count = jfk.shape[0]\n",
    "jfk_count"
   ]
  },
  {
   "cell_type": "code",
   "execution_count": 32,
   "metadata": {},
   "outputs": [
    {
     "data": {
      "text/plain": [
       "308"
      ]
     },
     "execution_count": 32,
     "metadata": {},
     "output_type": "execute_result"
    }
   ],
   "source": [
    "languardia = taxi[taxi[:,6]==3]\n",
    "languardia_count = languardia.shape[0]\n",
    "languardia_count"
   ]
  },
  {
   "cell_type": "code",
   "execution_count": 33,
   "metadata": {},
   "outputs": [
    {
     "data": {
      "text/plain": [
       "2"
      ]
     },
     "execution_count": 33,
     "metadata": {},
     "output_type": "execute_result"
    }
   ],
   "source": [
    "newark = taxi[taxi[:,6] == 5]\n",
    "newark_count = newark.shape[0]\n",
    "newark_count"
   ]
  },
  {
   "cell_type": "code",
   "execution_count": 34,
   "metadata": {},
   "outputs": [],
   "source": [
    "#calculate the mean value\n",
    "trip_mph = taxi[:,7]/(taxi[:,8]/3600)\n",
    "cleaned_taxi = taxi[trip_mph<100]\n",
    "mean_distance = cleaned_taxi[:,7].mean()\n",
    "mean_length = cleaned_taxi[:,8].mean()\n",
    "mean_total_amount = cleaned_taxi[:,13].mean()"
   ]
  }
 ],
 "metadata": {
  "kernelspec": {
   "display_name": "Python 3",
   "language": "python",
   "name": "python3"
  },
  "language_info": {
   "codemirror_mode": {
    "name": "ipython",
    "version": 3
   },
   "file_extension": ".py",
   "mimetype": "text/x-python",
   "name": "python",
   "nbconvert_exporter": "python",
   "pygments_lexer": "ipython3",
   "version": "3.8.5"
  }
 },
 "nbformat": 4,
 "nbformat_minor": 4
}
