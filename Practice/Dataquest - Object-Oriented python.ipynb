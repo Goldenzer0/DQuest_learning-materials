{
 "cells": [
  {
   "cell_type": "code",
   "execution_count": 1,
   "id": "a0a21691",
   "metadata": {},
   "outputs": [
    {
     "name": "stdout",
     "output_type": "stream",
     "text": [
      "<class 'list'>\n",
      "<class 'str'>\n",
      "<class 'dict'>\n"
     ]
    }
   ],
   "source": [
    "l = [1, 2, 3]\n",
    "s = \"string\"\n",
    "d = {\"a\": 1, \"b\": 2}\n",
    "\n",
    "print(type(l))\n",
    "print(type(s))\n",
    "print(type(d))"
   ]
  },
  {
   "cell_type": "code",
   "execution_count": 3,
   "id": "d5b81291",
   "metadata": {},
   "outputs": [],
   "source": [
    "class MyClass:\n",
    "    pass"
   ]
  },
  {
   "cell_type": "code",
   "execution_count": 4,
   "id": "9378f1fd",
   "metadata": {},
   "outputs": [
    {
     "name": "stdout",
     "output_type": "stream",
     "text": [
      "<class '__main__.MyClass'>\n"
     ]
    }
   ],
   "source": [
    "my_instance = MyClass()\n",
    "print(type(my_instance))"
   ]
  },
  {
   "cell_type": "code",
   "execution_count": 5,
   "id": "7ea0570c",
   "metadata": {},
   "outputs": [
    {
     "data": {
      "text/plain": [
       "<__main__.MyClass at 0x269ee9c6130>"
      ]
     },
     "execution_count": 5,
     "metadata": {},
     "output_type": "execute_result"
    }
   ],
   "source": [
    "class MyClass:\n",
    "    def first_method(a):\n",
    "        return 'This is my first method'\n",
    "my_instance = MyClass()\n",
    "my_instance"
   ]
  },
  {
   "cell_type": "markdown",
   "id": "35610a04",
   "metadata": {},
   "source": [
    "You can think of attributes like special variables that belong to a particular class. Attributes let us store specific values about each instance of our class."
   ]
  },
  {
   "cell_type": "code",
   "execution_count": 7,
   "id": "dc6d165f",
   "metadata": {},
   "outputs": [
    {
     "data": {
      "text/plain": [
       "'This is my first method'"
      ]
     },
     "execution_count": 7,
     "metadata": {},
     "output_type": "execute_result"
    }
   ],
   "source": [
    "result = my_instance.first_method()\n",
    "result"
   ]
  },
  {
   "cell_type": "code",
   "execution_count": 9,
   "id": "a68cbe53",
   "metadata": {},
   "outputs": [
    {
     "data": {
      "text/plain": [
       "[1, 2, 3]"
      ]
     },
     "execution_count": 9,
     "metadata": {},
     "output_type": "execute_result"
    }
   ],
   "source": [
    "class Myclass:\n",
    "    def first_method(self):\n",
    "        return \"This is my first method\"\n",
    "    \n",
    "    def return_list(self,input_list):\n",
    "        return input_list\n",
    "    \n",
    "my_instance = Myclass()\n",
    "result = my_instance.return_list([1,2,3])\n",
    "result"
   ]
  },
  {
   "cell_type": "markdown",
   "id": "392ca3c1",
   "metadata": {},
   "source": [
    "The init method — also called a constructor — is a special method that runs when an instance is created so we can perform any tasks to set up the instance."
   ]
  },
  {
   "cell_type": "code",
   "execution_count": 12,
   "id": "592ce271",
   "metadata": {},
   "outputs": [
    {
     "name": "stdout",
     "output_type": "stream",
     "text": [
      "[1, 2, 3, 4, 5]\n"
     ]
    }
   ],
   "source": [
    "class MyList:\n",
    "    def __init__(self,initial_data):\n",
    "        self.data = initial_data\n",
    "my_list = MyList([1,2,3,4,5])\n",
    "\n",
    "print(my_list.data)"
   ]
  },
  {
   "cell_type": "code",
   "execution_count": 13,
   "id": "a341b9b8",
   "metadata": {},
   "outputs": [
    {
     "name": "stdout",
     "output_type": "stream",
     "text": [
      "[1, 2, 3, 4, 5]\n",
      "[1, 2, 3, 4, 5, 6]\n"
     ]
    }
   ],
   "source": [
    "class MyList:\n",
    "\n",
    "    def __init__(self, initial_data):\n",
    "        self.data = initial_data\n",
    "        \n",
    "    # Add method here\n",
    "    def append(self,new_item):\n",
    "        self.data += [new_item]\n",
    "        \n",
    "        \n",
    "my_list = MyList([1, 2, 3, 4, 5])\n",
    "print(my_list.data)\n",
    "\n",
    "my_list.append(6)\n",
    "print(my_list.data)"
   ]
  },
  {
   "cell_type": "code",
   "execution_count": 16,
   "id": "6511c1b4",
   "metadata": {},
   "outputs": [
    {
     "name": "stdout",
     "output_type": "stream",
     "text": [
      "[1, 1, 3, 4]\n",
      "4\n",
      "[1, 1, 3, 4, 8]\n",
      "5\n"
     ]
    }
   ],
   "source": [
    "class MyList:\n",
    "    def __init__(self, initial_data):\n",
    "        self.data = initial_data\n",
    "        self.length = 0\n",
    "        for item in self.data:\n",
    "            self.length += 1\n",
    "    def append(self,new_item):\n",
    "        self.data += [new_item]\n",
    "        self.length += 1\n",
    "        \n",
    "my_list = MyList([1,1,3,4])\n",
    "print(my_list.data)\n",
    "print(my_list.length)\n",
    "\n",
    "my_list.append(8)\n",
    "print(my_list.data)\n",
    "print(my_list.length)"
   ]
  },
  {
   "cell_type": "markdown",
   "id": "e962f248",
   "metadata": {},
   "source": [
    "*What objects, classes, methods, and attributes are.  \n",
    "*How to create a class and instantiate a new object.  \n",
    "*How to store attributes inside objects using the __init__() method.  \n",
    "*How to create methods to transform data and update attributes.  \n",
    "As we mentioned earlier, creating classes from scratch is something that's not done often in the data science workflow, but having a solid understanding of how objects work is critical to help you use Python to work with data."
   ]
  },
  {
   "cell_type": "code",
   "execution_count": null,
   "id": "e6093ae2",
   "metadata": {},
   "outputs": [],
   "source": []
  }
 ],
 "metadata": {
  "kernelspec": {
   "display_name": "Python 3",
   "language": "python",
   "name": "python3"
  },
  "language_info": {
   "codemirror_mode": {
    "name": "ipython",
    "version": 3
   },
   "file_extension": ".py",
   "mimetype": "text/x-python",
   "name": "python",
   "nbconvert_exporter": "python",
   "pygments_lexer": "ipython3",
   "version": "3.8.5"
  }
 },
 "nbformat": 4,
 "nbformat_minor": 5
}
