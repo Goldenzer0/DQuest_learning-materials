{
 "cells": [
  {
   "cell_type": "code",
   "execution_count": 1,
   "id": "60f2b99d",
   "metadata": {
    "scrolled": true
   },
   "outputs": [
    {
     "data": {
      "text/html": [
       "<div>\n",
       "<style scoped>\n",
       "    .dataframe tbody tr th:only-of-type {\n",
       "        vertical-align: middle;\n",
       "    }\n",
       "\n",
       "    .dataframe tbody tr th {\n",
       "        vertical-align: top;\n",
       "    }\n",
       "\n",
       "    .dataframe thead th {\n",
       "        text-align: right;\n",
       "    }\n",
       "</style>\n",
       "<table border=\"1\" class=\"dataframe\">\n",
       "  <thead>\n",
       "    <tr style=\"text-align: right;\">\n",
       "      <th></th>\n",
       "      <th>company</th>\n",
       "      <th>rank</th>\n",
       "      <th>revenues</th>\n",
       "      <th>revenue_change</th>\n",
       "      <th>profits</th>\n",
       "      <th>assets</th>\n",
       "      <th>profit_change</th>\n",
       "      <th>ceo</th>\n",
       "      <th>industry</th>\n",
       "      <th>sector</th>\n",
       "      <th>previous_rank</th>\n",
       "      <th>country</th>\n",
       "      <th>hq_location</th>\n",
       "      <th>website</th>\n",
       "      <th>years_on_global_500_list</th>\n",
       "      <th>employees</th>\n",
       "      <th>total_stockholder_equity</th>\n",
       "    </tr>\n",
       "  </thead>\n",
       "  <tbody>\n",
       "    <tr>\n",
       "      <th>0</th>\n",
       "      <td>Walmart</td>\n",
       "      <td>1</td>\n",
       "      <td>485873</td>\n",
       "      <td>0.8</td>\n",
       "      <td>13643.0</td>\n",
       "      <td>198825</td>\n",
       "      <td>-7.2</td>\n",
       "      <td>C. Douglas McMillon</td>\n",
       "      <td>General Merchandisers</td>\n",
       "      <td>Retailing</td>\n",
       "      <td>1</td>\n",
       "      <td>USA</td>\n",
       "      <td>Bentonville, AR</td>\n",
       "      <td>http://www.walmart.com</td>\n",
       "      <td>23</td>\n",
       "      <td>2300000</td>\n",
       "      <td>77798</td>\n",
       "    </tr>\n",
       "    <tr>\n",
       "      <th>1</th>\n",
       "      <td>State Grid</td>\n",
       "      <td>2</td>\n",
       "      <td>315199</td>\n",
       "      <td>-4.4</td>\n",
       "      <td>9571.3</td>\n",
       "      <td>489838</td>\n",
       "      <td>-6.2</td>\n",
       "      <td>Kou Wei</td>\n",
       "      <td>Utilities</td>\n",
       "      <td>Energy</td>\n",
       "      <td>2</td>\n",
       "      <td>China</td>\n",
       "      <td>Beijing, China</td>\n",
       "      <td>http://www.sgcc.com.cn</td>\n",
       "      <td>17</td>\n",
       "      <td>926067</td>\n",
       "      <td>209456</td>\n",
       "    </tr>\n",
       "    <tr>\n",
       "      <th>2</th>\n",
       "      <td>Sinopec Group</td>\n",
       "      <td>3</td>\n",
       "      <td>267518</td>\n",
       "      <td>-9.1</td>\n",
       "      <td>1257.9</td>\n",
       "      <td>310726</td>\n",
       "      <td>-65.0</td>\n",
       "      <td>Wang Yupu</td>\n",
       "      <td>Petroleum Refining</td>\n",
       "      <td>Energy</td>\n",
       "      <td>4</td>\n",
       "      <td>China</td>\n",
       "      <td>Beijing, China</td>\n",
       "      <td>http://www.sinopec.com</td>\n",
       "      <td>19</td>\n",
       "      <td>713288</td>\n",
       "      <td>106523</td>\n",
       "    </tr>\n",
       "    <tr>\n",
       "      <th>3</th>\n",
       "      <td>China National Petroleum</td>\n",
       "      <td>4</td>\n",
       "      <td>262573</td>\n",
       "      <td>-12.3</td>\n",
       "      <td>1867.5</td>\n",
       "      <td>585619</td>\n",
       "      <td>-73.7</td>\n",
       "      <td>Zhang Jianhua</td>\n",
       "      <td>Petroleum Refining</td>\n",
       "      <td>Energy</td>\n",
       "      <td>3</td>\n",
       "      <td>China</td>\n",
       "      <td>Beijing, China</td>\n",
       "      <td>http://www.cnpc.com.cn</td>\n",
       "      <td>17</td>\n",
       "      <td>1512048</td>\n",
       "      <td>301893</td>\n",
       "    </tr>\n",
       "    <tr>\n",
       "      <th>4</th>\n",
       "      <td>Toyota Motor</td>\n",
       "      <td>5</td>\n",
       "      <td>254694</td>\n",
       "      <td>7.7</td>\n",
       "      <td>16899.3</td>\n",
       "      <td>437575</td>\n",
       "      <td>-12.3</td>\n",
       "      <td>Akio Toyoda</td>\n",
       "      <td>Motor Vehicles and Parts</td>\n",
       "      <td>Motor Vehicles &amp; Parts</td>\n",
       "      <td>8</td>\n",
       "      <td>Japan</td>\n",
       "      <td>Toyota, Japan</td>\n",
       "      <td>http://www.toyota-global.com</td>\n",
       "      <td>23</td>\n",
       "      <td>364445</td>\n",
       "      <td>157210</td>\n",
       "    </tr>\n",
       "    <tr>\n",
       "      <th>5</th>\n",
       "      <td>Volkswagen</td>\n",
       "      <td>6</td>\n",
       "      <td>240264</td>\n",
       "      <td>1.5</td>\n",
       "      <td>5937.3</td>\n",
       "      <td>432116</td>\n",
       "      <td>NaN</td>\n",
       "      <td>Matthias Muller</td>\n",
       "      <td>Motor Vehicles and Parts</td>\n",
       "      <td>Motor Vehicles &amp; Parts</td>\n",
       "      <td>7</td>\n",
       "      <td>Germany</td>\n",
       "      <td>Wolfsburg, Germany</td>\n",
       "      <td>http://www.volkswagen.com</td>\n",
       "      <td>23</td>\n",
       "      <td>626715</td>\n",
       "      <td>97753</td>\n",
       "    </tr>\n",
       "    <tr>\n",
       "      <th>6</th>\n",
       "      <td>Royal Dutch Shell</td>\n",
       "      <td>7</td>\n",
       "      <td>240033</td>\n",
       "      <td>-11.8</td>\n",
       "      <td>4575.0</td>\n",
       "      <td>411275</td>\n",
       "      <td>135.9</td>\n",
       "      <td>Ben van Beurden</td>\n",
       "      <td>Petroleum Refining</td>\n",
       "      <td>Energy</td>\n",
       "      <td>5</td>\n",
       "      <td>Netherlands</td>\n",
       "      <td>The Hague, Netherlands</td>\n",
       "      <td>http://www.shell.com</td>\n",
       "      <td>23</td>\n",
       "      <td>89000</td>\n",
       "      <td>186646</td>\n",
       "    </tr>\n",
       "    <tr>\n",
       "      <th>7</th>\n",
       "      <td>Berkshire Hathaway</td>\n",
       "      <td>8</td>\n",
       "      <td>223604</td>\n",
       "      <td>6.1</td>\n",
       "      <td>24074.0</td>\n",
       "      <td>620854</td>\n",
       "      <td>NaN</td>\n",
       "      <td>Warren E. Buffett</td>\n",
       "      <td>Insurance: Property and Casualty (Stock)</td>\n",
       "      <td>Financials</td>\n",
       "      <td>11</td>\n",
       "      <td>USA</td>\n",
       "      <td>Omaha, NE</td>\n",
       "      <td>http://www.berkshirehathaway.com</td>\n",
       "      <td>21</td>\n",
       "      <td>367700</td>\n",
       "      <td>283001</td>\n",
       "    </tr>\n",
       "    <tr>\n",
       "      <th>8</th>\n",
       "      <td>Apple</td>\n",
       "      <td>9</td>\n",
       "      <td>215639</td>\n",
       "      <td>-7.7</td>\n",
       "      <td>45687.0</td>\n",
       "      <td>321686</td>\n",
       "      <td>-14.4</td>\n",
       "      <td>Timothy D. Cook</td>\n",
       "      <td>Computers, Office Equipment</td>\n",
       "      <td>Technology</td>\n",
       "      <td>9</td>\n",
       "      <td>USA</td>\n",
       "      <td>Cupertino, CA</td>\n",
       "      <td>http://www.apple.com</td>\n",
       "      <td>15</td>\n",
       "      <td>116000</td>\n",
       "      <td>128249</td>\n",
       "    </tr>\n",
       "    <tr>\n",
       "      <th>9</th>\n",
       "      <td>Exxon Mobil</td>\n",
       "      <td>10</td>\n",
       "      <td>205004</td>\n",
       "      <td>-16.7</td>\n",
       "      <td>7840.0</td>\n",
       "      <td>330314</td>\n",
       "      <td>-51.5</td>\n",
       "      <td>Darren W. Woods</td>\n",
       "      <td>Petroleum Refining</td>\n",
       "      <td>Energy</td>\n",
       "      <td>6</td>\n",
       "      <td>USA</td>\n",
       "      <td>Irving, TX</td>\n",
       "      <td>http://www.exxonmobil.com</td>\n",
       "      <td>23</td>\n",
       "      <td>72700</td>\n",
       "      <td>167325</td>\n",
       "    </tr>\n",
       "  </tbody>\n",
       "</table>\n",
       "</div>"
      ],
      "text/plain": [
       "                    company  rank  revenues  revenue_change  profits  assets  \\\n",
       "0                   Walmart     1    485873             0.8  13643.0  198825   \n",
       "1                State Grid     2    315199            -4.4   9571.3  489838   \n",
       "2             Sinopec Group     3    267518            -9.1   1257.9  310726   \n",
       "3  China National Petroleum     4    262573           -12.3   1867.5  585619   \n",
       "4              Toyota Motor     5    254694             7.7  16899.3  437575   \n",
       "5                Volkswagen     6    240264             1.5   5937.3  432116   \n",
       "6         Royal Dutch Shell     7    240033           -11.8   4575.0  411275   \n",
       "7        Berkshire Hathaway     8    223604             6.1  24074.0  620854   \n",
       "8                     Apple     9    215639            -7.7  45687.0  321686   \n",
       "9               Exxon Mobil    10    205004           -16.7   7840.0  330314   \n",
       "\n",
       "   profit_change                  ceo  \\\n",
       "0           -7.2  C. Douglas McMillon   \n",
       "1           -6.2              Kou Wei   \n",
       "2          -65.0            Wang Yupu   \n",
       "3          -73.7        Zhang Jianhua   \n",
       "4          -12.3          Akio Toyoda   \n",
       "5            NaN      Matthias Muller   \n",
       "6          135.9      Ben van Beurden   \n",
       "7            NaN    Warren E. Buffett   \n",
       "8          -14.4      Timothy D. Cook   \n",
       "9          -51.5      Darren W. Woods   \n",
       "\n",
       "                                   industry                  sector  \\\n",
       "0                     General Merchandisers               Retailing   \n",
       "1                                 Utilities                  Energy   \n",
       "2                        Petroleum Refining                  Energy   \n",
       "3                        Petroleum Refining                  Energy   \n",
       "4                  Motor Vehicles and Parts  Motor Vehicles & Parts   \n",
       "5                  Motor Vehicles and Parts  Motor Vehicles & Parts   \n",
       "6                        Petroleum Refining                  Energy   \n",
       "7  Insurance: Property and Casualty (Stock)              Financials   \n",
       "8               Computers, Office Equipment              Technology   \n",
       "9                        Petroleum Refining                  Energy   \n",
       "\n",
       "   previous_rank      country             hq_location  \\\n",
       "0              1          USA         Bentonville, AR   \n",
       "1              2        China          Beijing, China   \n",
       "2              4        China          Beijing, China   \n",
       "3              3        China          Beijing, China   \n",
       "4              8        Japan           Toyota, Japan   \n",
       "5              7      Germany      Wolfsburg, Germany   \n",
       "6              5  Netherlands  The Hague, Netherlands   \n",
       "7             11          USA               Omaha, NE   \n",
       "8              9          USA           Cupertino, CA   \n",
       "9              6          USA              Irving, TX   \n",
       "\n",
       "                            website  years_on_global_500_list  employees  \\\n",
       "0            http://www.walmart.com                        23    2300000   \n",
       "1            http://www.sgcc.com.cn                        17     926067   \n",
       "2            http://www.sinopec.com                        19     713288   \n",
       "3            http://www.cnpc.com.cn                        17    1512048   \n",
       "4      http://www.toyota-global.com                        23     364445   \n",
       "5         http://www.volkswagen.com                        23     626715   \n",
       "6              http://www.shell.com                        23      89000   \n",
       "7  http://www.berkshirehathaway.com                        21     367700   \n",
       "8              http://www.apple.com                        15     116000   \n",
       "9         http://www.exxonmobil.com                        23      72700   \n",
       "\n",
       "   total_stockholder_equity  \n",
       "0                     77798  \n",
       "1                    209456  \n",
       "2                    106523  \n",
       "3                    301893  \n",
       "4                    157210  \n",
       "5                     97753  \n",
       "6                    186646  \n",
       "7                    283001  \n",
       "8                    128249  \n",
       "9                    167325  "
      ]
     },
     "execution_count": 1,
     "metadata": {},
     "output_type": "execute_result"
    }
   ],
   "source": [
    "import pandas as pd\n",
    "\n",
    "f500 = pd.read_csv('f500.csv')\n",
    "f500.head(10)"
   ]
  },
  {
   "cell_type": "code",
   "execution_count": 2,
   "id": "317f5e0c",
   "metadata": {},
   "outputs": [
    {
     "name": "stdout",
     "output_type": "stream",
     "text": [
      "<class 'pandas.core.frame.DataFrame'>\n",
      "RangeIndex: 500 entries, 0 to 499\n",
      "Data columns (total 17 columns):\n",
      " #   Column                    Non-Null Count  Dtype  \n",
      "---  ------                    --------------  -----  \n",
      " 0   company                   500 non-null    object \n",
      " 1   rank                      500 non-null    int64  \n",
      " 2   revenues                  500 non-null    int64  \n",
      " 3   revenue_change            498 non-null    float64\n",
      " 4   profits                   499 non-null    float64\n",
      " 5   assets                    500 non-null    int64  \n",
      " 6   profit_change             436 non-null    float64\n",
      " 7   ceo                       500 non-null    object \n",
      " 8   industry                  500 non-null    object \n",
      " 9   sector                    500 non-null    object \n",
      " 10  previous_rank             500 non-null    int64  \n",
      " 11  country                   500 non-null    object \n",
      " 12  hq_location               500 non-null    object \n",
      " 13  website                   500 non-null    object \n",
      " 14  years_on_global_500_list  500 non-null    int64  \n",
      " 15  employees                 500 non-null    int64  \n",
      " 16  total_stockholder_equity  500 non-null    int64  \n",
      "dtypes: float64(3), int64(7), object(7)\n",
      "memory usage: 66.5+ KB\n"
     ]
    }
   ],
   "source": [
    "f500.info()"
   ]
  },
  {
   "cell_type": "code",
   "execution_count": 3,
   "id": "508e7937",
   "metadata": {},
   "outputs": [
    {
     "data": {
      "text/plain": [
       "0        0\n",
       "1        0\n",
       "2        1\n",
       "3       -1\n",
       "4        3\n",
       "      ... \n",
       "495   -496\n",
       "496    -70\n",
       "497    -61\n",
       "498    -32\n",
       "499   -500\n",
       "Length: 500, dtype: int64"
      ]
     },
     "execution_count": 3,
     "metadata": {},
     "output_type": "execute_result"
    }
   ],
   "source": [
    "rank_change = f500['previous_rank'] - f500['rank']\n",
    "rank_change"
   ]
  },
  {
   "cell_type": "code",
   "execution_count": 4,
   "id": "d4e06c72",
   "metadata": {},
   "outputs": [
    {
     "data": {
      "text/plain": [
       "226"
      ]
     },
     "execution_count": 4,
     "metadata": {},
     "output_type": "execute_result"
    }
   ],
   "source": [
    "rank_change.max()"
   ]
  },
  {
   "cell_type": "code",
   "execution_count": 5,
   "id": "ae9b4abf",
   "metadata": {},
   "outputs": [
    {
     "data": {
      "text/plain": [
       "-500"
      ]
     },
     "execution_count": 5,
     "metadata": {},
     "output_type": "execute_result"
    }
   ],
   "source": [
    "rank_change.min()"
   ]
  },
  {
   "cell_type": "code",
   "execution_count": 6,
   "id": "021fb026",
   "metadata": {},
   "outputs": [
    {
     "data": {
      "text/plain": [
       "0        1\n",
       "1        2\n",
       "2        3\n",
       "3        4\n",
       "4        5\n",
       "      ... \n",
       "495    496\n",
       "496    497\n",
       "497    498\n",
       "498    499\n",
       "499    500\n",
       "Name: rank, Length: 500, dtype: int64"
      ]
     },
     "execution_count": 6,
     "metadata": {},
     "output_type": "execute_result"
    }
   ],
   "source": [
    "rank = f500['rank']\n",
    "rank"
   ]
  },
  {
   "cell_type": "code",
   "execution_count": 8,
   "id": "03bf3268",
   "metadata": {},
   "outputs": [
    {
     "data": {
      "text/plain": [
       "count    500.000000\n",
       "mean     250.500000\n",
       "std      144.481833\n",
       "min        1.000000\n",
       "25%      125.750000\n",
       "50%      250.500000\n",
       "75%      375.250000\n",
       "max      500.000000\n",
       "Name: rank, dtype: float64"
      ]
     },
     "execution_count": 8,
     "metadata": {},
     "output_type": "execute_result"
    }
   ],
   "source": [
    "rank_desc = rank.describe()\n",
    "rank_desc"
   ]
  },
  {
   "cell_type": "code",
   "execution_count": 11,
   "id": "742e581d",
   "metadata": {},
   "outputs": [
    {
     "data": {
      "text/plain": [
       "33"
      ]
     },
     "execution_count": 11,
     "metadata": {},
     "output_type": "execute_result"
    }
   ],
   "source": [
    "f500['previous_rank'].value_counts().loc[0]"
   ]
  },
  {
   "cell_type": "code",
   "execution_count": 12,
   "id": "df2119d0",
   "metadata": {},
   "outputs": [
    {
     "data": {
      "text/html": [
       "<div>\n",
       "<style scoped>\n",
       "    .dataframe tbody tr th:only-of-type {\n",
       "        vertical-align: middle;\n",
       "    }\n",
       "\n",
       "    .dataframe tbody tr th {\n",
       "        vertical-align: top;\n",
       "    }\n",
       "\n",
       "    .dataframe thead th {\n",
       "        text-align: right;\n",
       "    }\n",
       "</style>\n",
       "<table border=\"1\" class=\"dataframe\">\n",
       "  <thead>\n",
       "    <tr style=\"text-align: right;\">\n",
       "      <th></th>\n",
       "      <th>company</th>\n",
       "      <th>ceo</th>\n",
       "      <th>industry</th>\n",
       "      <th>sector</th>\n",
       "      <th>country</th>\n",
       "      <th>hq_location</th>\n",
       "      <th>website</th>\n",
       "    </tr>\n",
       "  </thead>\n",
       "  <tbody>\n",
       "    <tr>\n",
       "      <th>count</th>\n",
       "      <td>500</td>\n",
       "      <td>500</td>\n",
       "      <td>500</td>\n",
       "      <td>500</td>\n",
       "      <td>500</td>\n",
       "      <td>500</td>\n",
       "      <td>500</td>\n",
       "    </tr>\n",
       "    <tr>\n",
       "      <th>unique</th>\n",
       "      <td>500</td>\n",
       "      <td>500</td>\n",
       "      <td>58</td>\n",
       "      <td>21</td>\n",
       "      <td>34</td>\n",
       "      <td>235</td>\n",
       "      <td>500</td>\n",
       "    </tr>\n",
       "    <tr>\n",
       "      <th>top</th>\n",
       "      <td>AT&amp;T</td>\n",
       "      <td>Richard D. Fairbank</td>\n",
       "      <td>Banks: Commercial and Savings</td>\n",
       "      <td>Financials</td>\n",
       "      <td>USA</td>\n",
       "      <td>Beijing, China</td>\n",
       "      <td>http://www.vale.com</td>\n",
       "    </tr>\n",
       "    <tr>\n",
       "      <th>freq</th>\n",
       "      <td>1</td>\n",
       "      <td>1</td>\n",
       "      <td>51</td>\n",
       "      <td>118</td>\n",
       "      <td>132</td>\n",
       "      <td>56</td>\n",
       "      <td>1</td>\n",
       "    </tr>\n",
       "  </tbody>\n",
       "</table>\n",
       "</div>"
      ],
      "text/plain": [
       "       company                  ceo                       industry  \\\n",
       "count      500                  500                            500   \n",
       "unique     500                  500                             58   \n",
       "top       AT&T  Richard D. Fairbank  Banks: Commercial and Savings   \n",
       "freq         1                    1                             51   \n",
       "\n",
       "            sector country     hq_location              website  \n",
       "count          500     500             500                  500  \n",
       "unique          21      34             235                  500  \n",
       "top     Financials     USA  Beijing, China  http://www.vale.com  \n",
       "freq           118     132              56                    1  "
      ]
     },
     "execution_count": 12,
     "metadata": {},
     "output_type": "execute_result"
    }
   ],
   "source": [
    "f500.describe(include=['O']) #to get object columns"
   ]
  },
  {
   "cell_type": "code",
   "execution_count": 13,
   "id": "3640d68e",
   "metadata": {},
   "outputs": [],
   "source": [
    "f500.loc['Dow Chemical','ceo'] = 'Jim Fitterling'"
   ]
  },
  {
   "cell_type": "code",
   "execution_count": 14,
   "id": "b94e1bec",
   "metadata": {},
   "outputs": [
    {
     "data": {
      "text/plain": [
       "4            Japan\n",
       "5          Germany\n",
       "16         Germany\n",
       "17             USA\n",
       "20             USA\n",
       "28           Japan\n",
       "40           China\n",
       "43           Japan\n",
       "51         Germany\n",
       "67           China\n",
       "75         Germany\n",
       "77     South Korea\n",
       "124          China\n",
       "136          China\n",
       "139         France\n",
       "156         France\n",
       "208    South Korea\n",
       "212        Germany\n",
       "235          Japan\n",
       "237          China\n",
       "246          India\n",
       "262        Germany\n",
       "278          China\n",
       "289         Canada\n",
       "300         Sweden\n",
       "322    South Korea\n",
       "323          Japan\n",
       "342          China\n",
       "351          Japan\n",
       "352          Japan\n",
       "366          Japan\n",
       "372          Japan\n",
       "419          Japan\n",
       "465         France\n",
       "Name: country, dtype: object"
      ]
     },
     "execution_count": 14,
     "metadata": {},
     "output_type": "execute_result"
    }
   ],
   "source": [
    "motor_bool = f500['industry'] == 'Motor Vehicles and Parts'\n",
    "motor_countries = f500.loc[motor_bool,'country']\n",
    "motor_countries"
   ]
  },
  {
   "cell_type": "code",
   "execution_count": 15,
   "id": "f19fb1ed",
   "metadata": {},
   "outputs": [
    {
     "data": {
      "text/plain": [
       "0.0      33\n",
       "240.0     1\n",
       "451.0     1\n",
       "269.0     1\n",
       "24.0      1\n",
       "Name: previous_rank, dtype: int64"
      ]
     },
     "execution_count": 15,
     "metadata": {},
     "output_type": "execute_result"
    }
   ],
   "source": [
    "import numpy as np\n",
    "prev_rank_before = f500['previous_rank'].value_counts(dropna=False).head()\n",
    "prev_rank_before"
   ]
  },
  {
   "cell_type": "code",
   "execution_count": 16,
   "id": "3ac9e9f7",
   "metadata": {},
   "outputs": [
    {
     "data": {
      "text/plain": [
       "NaN      34\n",
       "240.0     1\n",
       "451.0     1\n",
       "269.0     1\n",
       "24.0      1\n",
       "Name: previous_rank, dtype: int64"
      ]
     },
     "execution_count": 16,
     "metadata": {},
     "output_type": "execute_result"
    }
   ],
   "source": [
    "rank_bool = f500['previous_rank']==0\n",
    "f500.loc[rank_bool,'previous_rank'] = np.nan\n",
    "prev_rank_after = f500['previous_rank'].value_counts(dropna=False).head()\n",
    "prev_rank_after"
   ]
  },
  {
   "cell_type": "code",
   "execution_count": 17,
   "id": "03203237",
   "metadata": {},
   "outputs": [
    {
     "data": {
      "text/plain": [
       "-199.0"
      ]
     },
     "execution_count": 17,
     "metadata": {},
     "output_type": "execute_result"
    }
   ],
   "source": [
    "f500['rank_change'] = f500['previous_rank'] - f500['rank']\n",
    "rank_change_desc = f500['rank_change'].describe()\n",
    "f500['rank_change'].min()"
   ]
  },
  {
   "cell_type": "code",
   "execution_count": 18,
   "id": "41d0e247",
   "metadata": {},
   "outputs": [
    {
     "data": {
      "text/plain": [
       "Banks: Commercial and Savings               8\n",
       "Insurance: Property and Casualty (Stock)    7\n",
       "Name: industry, dtype: int64"
      ]
     },
     "execution_count": 18,
     "metadata": {},
     "output_type": "execute_result"
    }
   ],
   "source": [
    "industry_usa = f500['industry'][f500['country']=='USA'].value_counts().head(2)\n",
    "industry_usa"
   ]
  },
  {
   "cell_type": "code",
   "execution_count": 19,
   "id": "fd036fc4",
   "metadata": {},
   "outputs": [
    {
     "data": {
      "text/plain": [
       "Financials                    25\n",
       "Energy                        22\n",
       "Wholesalers                    9\n",
       "Technology                     8\n",
       "Engineering & Construction     8\n",
       "Name: sector, dtype: int64"
      ]
     },
     "execution_count": 19,
     "metadata": {},
     "output_type": "execute_result"
    }
   ],
   "source": [
    "f500['sector'][f500['country']=='China'].value_counts().head()"
   ]
  },
  {
   "cell_type": "markdown",
   "id": "364ca3fe",
   "metadata": {},
   "source": [
    "In this mission, we learned:  \n",
    "\n",
    "How to select data from pandas objects using boolean arrays  \n",
    "How to assign data using labels and boolean arrays.  \n",
    "How to create new columns in pandas.  \n",
    "Many new methods to make data analysis easier in pandas.  "
   ]
  }
 ],
 "metadata": {
  "kernelspec": {
   "display_name": "Python 3",
   "language": "python",
   "name": "python3"
  },
  "language_info": {
   "codemirror_mode": {
    "name": "ipython",
    "version": 3
   },
   "file_extension": ".py",
   "mimetype": "text/x-python",
   "name": "python",
   "nbconvert_exporter": "python",
   "pygments_lexer": "ipython3",
   "version": "3.8.5"
  }
 },
 "nbformat": 4,
 "nbformat_minor": 5
}
