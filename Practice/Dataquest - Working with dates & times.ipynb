{
 "cells": [
  {
   "cell_type": "code",
   "execution_count": 1,
   "id": "fa57a9a4",
   "metadata": {},
   "outputs": [],
   "source": [
    "from csv import reader\n",
    "\n",
    "file = open('potus_visitors_2015.csv')\n",
    "fh = reader(file)\n",
    "potus = list(fh)\n",
    "potus = potus[1:]"
   ]
  },
  {
   "cell_type": "code",
   "execution_count": 2,
   "id": "eae851a6",
   "metadata": {},
   "outputs": [
    {
     "data": {
      "text/plain": [
       "datetime.datetime(1911, 6, 16, 0, 0)"
      ]
     },
     "execution_count": 2,
     "metadata": {},
     "output_type": "execute_result"
    }
   ],
   "source": [
    "import datetime as dt\n",
    "\n",
    "ibm_founded = dt.datetime(1911,6,16,0,0)\n",
    "ibm_founded"
   ]
  },
  {
   "cell_type": "code",
   "execution_count": 3,
   "id": "09fb25d3",
   "metadata": {},
   "outputs": [
    {
     "data": {
      "text/plain": [
       "datetime.datetime(1969, 7, 20, 20, 17)"
      ]
     },
     "execution_count": 3,
     "metadata": {},
     "output_type": "execute_result"
    }
   ],
   "source": [
    "man_on_moon = dt.datetime(1969,7,20,20,17)\n",
    "man_on_moon"
   ]
  },
  {
   "cell_type": "code",
   "execution_count": 4,
   "id": "8427af32",
   "metadata": {},
   "outputs": [
    {
     "data": {
      "text/plain": [
       "datetime.datetime(2015, 12, 18, 16, 30)"
      ]
     },
     "execution_count": 4,
     "metadata": {},
     "output_type": "execute_result"
    }
   ],
   "source": [
    "date_format = \"%m/%d/%y %H:%M\"\n",
    "\n",
    "for row in potus:\n",
    "    x = row[2]\n",
    "    date = dt.datetime.strptime(x,date_format)\n",
    "    row[2] = date\n",
    "row[2]"
   ]
  },
  {
   "cell_type": "code",
   "execution_count": 5,
   "id": "c1d4c724",
   "metadata": {},
   "outputs": [
    {
     "data": {
      "text/plain": [
       "{'January, 2015': 1248,\n",
       " 'February, 2015': 2165,\n",
       " 'March, 2015': 2262,\n",
       " 'April, 2015': 4996,\n",
       " 'May, 2015': 3013,\n",
       " 'June, 2015': 7743,\n",
       " 'July, 2015': 2930,\n",
       " 'August, 2015': 1350,\n",
       " 'September, 2015': 4416,\n",
       " 'October, 2015': 3669,\n",
       " 'November, 2015': 1133,\n",
       " 'December, 2015': 13029}"
      ]
     },
     "execution_count": 5,
     "metadata": {},
     "output_type": "execute_result"
    }
   ],
   "source": [
    "visitors_per_month = {}\n",
    "\n",
    "for row in potus:\n",
    "    start_date = row[2]\n",
    "    date_format = \"%B, %Y\"\n",
    "    start_date = dt.datetime.strftime(start_date,date_format)\n",
    "    visitors_per_month[start_date] = visitors_per_month.get(start_date,0)+1\n",
    "    \n",
    "visitors_per_month"
   ]
  },
  {
   "cell_type": "code",
   "execution_count": 7,
   "id": "e9d8f9ae",
   "metadata": {},
   "outputs": [
    {
     "data": {
      "text/plain": [
       "[datetime.time(9, 30),\n",
       " datetime.time(9, 30),\n",
       " datetime.time(9, 30),\n",
       " datetime.time(9, 30),\n",
       " datetime.time(9, 30)]"
      ]
     },
     "execution_count": 7,
     "metadata": {},
     "output_type": "execute_result"
    }
   ],
   "source": [
    "appt_times = []\n",
    "\n",
    "for row in potus:\n",
    "    time = row[2]\n",
    "    time = time.time()\n",
    "    appt_times.append(time)\n",
    "    \n",
    "appt_times[:5]"
   ]
  },
  {
   "cell_type": "code",
   "execution_count": 8,
   "id": "8761c07b",
   "metadata": {},
   "outputs": [
    {
     "name": "stdout",
     "output_type": "stream",
     "text": [
      "min_time: 06:00:00\n",
      "max_time: 21:30:00\n"
     ]
    }
   ],
   "source": [
    "min_time = min(appt_times)\n",
    "max_time = max(appt_times)\n",
    "\n",
    "print('min_time:',min_time)\n",
    "print('max_time:',max_time)"
   ]
  },
  {
   "cell_type": "code",
   "execution_count": 9,
   "id": "0c8cc89d",
   "metadata": {},
   "outputs": [
    {
     "name": "stdout",
     "output_type": "stream",
     "text": [
      "Min length: 2:29:00\n",
      "Max length: 16 days, 12:59:00\n"
     ]
    }
   ],
   "source": [
    "for row in potus:\n",
    "    end_date = row[3]\n",
    "    end_date = dt.datetime.strptime(end_date, \"%m/%d/%y %H:%M\")\n",
    "    row[3] = end_date\n",
    "    \n",
    "appt_lengths = {}\n",
    "\n",
    "for row in potus:\n",
    "    start_date = row[2]\n",
    "    end_date = row[3]\n",
    "    length = end_date - start_date\n",
    "    appt_lengths[length] = appt_lengths.get(length,0)+1\n",
    "    \n",
    "min_length = min(appt_lengths)\n",
    "max_length = max(appt_lengths)\n",
    "\n",
    "print('Min length:',min_length)\n",
    "print('Max length:', max_length)"
   ]
  },
  {
   "cell_type": "markdown",
   "id": "04bd86c6",
   "metadata": {},
   "source": [
    "In this mission, we learned how to use the datetime module to work with date and time data. If you'd like some more practice, you can extend the work we did with this data set by:\n",
    "\n",
    "Thinking about the maximum and minimum appointment time values, and exploring the data to explain why these values are larger than you might expect.\n",
    "Find the visitor who spent the most amount of time at the White House.\n",
    "Finding who visited the White House the most each month."
   ]
  }
 ],
 "metadata": {
  "kernelspec": {
   "display_name": "Python 3",
   "language": "python",
   "name": "python3"
  },
  "language_info": {
   "codemirror_mode": {
    "name": "ipython",
    "version": 3
   },
   "file_extension": ".py",
   "mimetype": "text/x-python",
   "name": "python",
   "nbconvert_exporter": "python",
   "pygments_lexer": "ipython3",
   "version": "3.8.5"
  }
 },
 "nbformat": 4,
 "nbformat_minor": 5
}
