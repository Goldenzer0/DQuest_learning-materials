{
 "cells": [
  {
   "cell_type": "code",
   "execution_count": 2,
   "id": "7b2050d8",
   "metadata": {},
   "outputs": [
    {
     "data": {
      "text/plain": [
       "array([10, 20, 30])"
      ]
     },
     "execution_count": 2,
     "metadata": {},
     "output_type": "execute_result"
    }
   ],
   "source": [
    "import numpy as np\n",
    "\n",
    "data_ndarray = np.array([10,20,30])\n",
    "data_ndarray"
   ]
  },
  {
   "cell_type": "code",
   "execution_count": 3,
   "id": "b9107111",
   "metadata": {},
   "outputs": [],
   "source": [
    "import csv\n",
    "\n",
    "file = open('nyc_taxis.csv','r')\n",
    "taxi_list = list(csv.reader(file))"
   ]
  },
  {
   "cell_type": "code",
   "execution_count": 4,
   "id": "60d543ee",
   "metadata": {},
   "outputs": [],
   "source": [
    "taxi_list = taxi_list[1:] #remove header"
   ]
  },
  {
   "cell_type": "code",
   "execution_count": 5,
   "id": "d3db6e23",
   "metadata": {},
   "outputs": [],
   "source": [
    "#convert values to float\n",
    "converted_taxi_list = []\n",
    "for row in taxi_list:\n",
    "    converted_row = []\n",
    "    for item in row:\n",
    "        converted_row.append(float(item))\n",
    "    converted_taxi_list.append(converted_row)"
   ]
  },
  {
   "cell_type": "code",
   "execution_count": 6,
   "id": "2984126a",
   "metadata": {},
   "outputs": [
    {
     "data": {
      "text/plain": [
       "array([[2.016e+03, 1.000e+00, 1.000e+00, ..., 1.165e+01, 6.999e+01,\n",
       "        1.000e+00],\n",
       "       [2.016e+03, 1.000e+00, 1.000e+00, ..., 8.000e+00, 5.430e+01,\n",
       "        1.000e+00],\n",
       "       [2.016e+03, 1.000e+00, 1.000e+00, ..., 0.000e+00, 3.780e+01,\n",
       "        2.000e+00],\n",
       "       ...,\n",
       "       [2.016e+03, 6.000e+00, 3.000e+01, ..., 5.000e+00, 6.334e+01,\n",
       "        1.000e+00],\n",
       "       [2.016e+03, 6.000e+00, 3.000e+01, ..., 8.950e+00, 4.475e+01,\n",
       "        1.000e+00],\n",
       "       [2.016e+03, 6.000e+00, 3.000e+01, ..., 0.000e+00, 5.484e+01,\n",
       "        2.000e+00]])"
      ]
     },
     "execution_count": 6,
     "metadata": {},
     "output_type": "execute_result"
    }
   ],
   "source": [
    "taxi = np.array(converted_taxi_list)\n",
    "taxi"
   ]
  },
  {
   "cell_type": "code",
   "execution_count": 7,
   "id": "7d2a8e5e",
   "metadata": {},
   "outputs": [
    {
     "data": {
      "text/plain": [
       "(2013, 15)"
      ]
     },
     "execution_count": 7,
     "metadata": {},
     "output_type": "execute_result"
    }
   ],
   "source": [
    "taxi_shape = np.shape(taxi)\n",
    "taxi_shape"
   ]
  },
  {
   "cell_type": "code",
   "execution_count": 8,
   "id": "4ff5aaba",
   "metadata": {},
   "outputs": [
    {
     "data": {
      "text/plain": [
       "(2013, 15)"
      ]
     },
     "execution_count": 8,
     "metadata": {},
     "output_type": "execute_result"
    }
   ],
   "source": [
    "taxi.shape"
   ]
  },
  {
   "cell_type": "code",
   "execution_count": 9,
   "id": "20f7be21",
   "metadata": {},
   "outputs": [
    {
     "data": {
      "text/plain": [
       "array([2.016e+03, 1.000e+00, 1.000e+00, 5.000e+00, 0.000e+00, 2.000e+00,\n",
       "       4.000e+00, 2.100e+01, 2.037e+03, 5.200e+01, 8.000e-01, 5.540e+00,\n",
       "       1.165e+01, 6.999e+01, 1.000e+00])"
      ]
     },
     "execution_count": 9,
     "metadata": {},
     "output_type": "execute_result"
    }
   ],
   "source": [
    "row_0 = taxi[0]\n",
    "row_0"
   ]
  },
  {
   "cell_type": "code",
   "execution_count": 10,
   "id": "d0e45ebe",
   "metadata": {},
   "outputs": [
    {
     "data": {
      "text/plain": [
       "array([[2.016e+03, 1.000e+00, 2.000e+00, ..., 0.000e+00, 2.630e+01,\n",
       "        2.000e+00],\n",
       "       [2.016e+03, 1.000e+00, 2.000e+00, ..., 3.000e+00, 3.030e+01,\n",
       "        1.000e+00],\n",
       "       [2.016e+03, 1.000e+00, 2.000e+00, ..., 6.670e+00, 4.001e+01,\n",
       "        1.000e+00],\n",
       "       ...,\n",
       "       [2.016e+03, 1.000e+00, 4.000e+00, ..., 0.000e+00, 5.534e+01,\n",
       "        2.000e+00],\n",
       "       [2.016e+03, 1.000e+00, 4.000e+00, ..., 3.090e+00, 1.339e+01,\n",
       "        1.000e+00],\n",
       "       [2.016e+03, 1.000e+00, 4.000e+00, ..., 4.000e+00, 2.680e+01,\n",
       "        1.000e+00]])"
      ]
     },
     "execution_count": 10,
     "metadata": {},
     "output_type": "execute_result"
    }
   ],
   "source": [
    "rows_391_to_500 = taxi[391:501] #rows indexes\n",
    "rows_391_to_500"
   ]
  },
  {
   "cell_type": "code",
   "execution_count": 11,
   "id": "f4122fa6",
   "metadata": {},
   "outputs": [
    {
     "data": {
      "text/plain": [
       "4.0"
      ]
     },
     "execution_count": 11,
     "metadata": {},
     "output_type": "execute_result"
    }
   ],
   "source": [
    "row_21_column_5 = taxi[21,5] #select specific row, column\n",
    "row_21_column_5"
   ]
  },
  {
   "cell_type": "code",
   "execution_count": 14,
   "id": "2d3d8115",
   "metadata": {},
   "outputs": [],
   "source": [
    "columns_1_4_7 = taxi[:,[1,4,7]]\n",
    "row_99_columns_5_to_8 = taxi[99,5:9]\n",
    "rows_100_to_200_column_14 = taxi[100:201,14]"
   ]
  },
  {
   "cell_type": "code",
   "execution_count": 17,
   "id": "8f5aea60",
   "metadata": {
    "scrolled": true
   },
   "outputs": [
    {
     "data": {
      "text/plain": [
       "array([52.8, 46.3, 37.8, ..., 52.8, 35.8, 49.3])"
      ]
     },
     "execution_count": 17,
     "metadata": {},
     "output_type": "execute_result"
    }
   ],
   "source": [
    "fare_amount = taxi[:,9]\n",
    "fee_amount = taxi[:,10]\n",
    "fare_and_fees = fare_amount + fee_amount\n",
    "fare_and_fees"
   ]
  },
  {
   "cell_type": "code",
   "execution_count": 19,
   "id": "64e27d24",
   "metadata": {},
   "outputs": [
    {
     "data": {
      "text/plain": [
       "array([37.11340206, 38.58157895, 31.27222982, ..., 22.29907867,\n",
       "       42.41551247, 36.90473407])"
      ]
     },
     "execution_count": 19,
     "metadata": {},
     "output_type": "execute_result"
    }
   ],
   "source": [
    "trip_distance_miles = taxi[:,7]\n",
    "trip_length_seconds = taxi[:,8]\n",
    "\n",
    "trip_length_hours = trip_length_seconds / 3600 # 3600 seconds is one hour\n",
    "\n",
    "trip_mph = trip_distance_miles/trip_length_hours\n",
    "trip_mph"
   ]
  },
  {
   "cell_type": "code",
   "execution_count": 20,
   "id": "46de37e7",
   "metadata": {},
   "outputs": [
    {
     "data": {
      "text/plain": [
       "0.0"
      ]
     },
     "execution_count": 20,
     "metadata": {},
     "output_type": "execute_result"
    }
   ],
   "source": [
    "mph_min = trip_mph.min()\n",
    "mph_min"
   ]
  },
  {
   "cell_type": "code",
   "execution_count": 21,
   "id": "f2212ee4",
   "metadata": {},
   "outputs": [
    {
     "data": {
      "text/plain": [
       "82800.0"
      ]
     },
     "execution_count": 21,
     "metadata": {},
     "output_type": "execute_result"
    }
   ],
   "source": [
    "trip_mph.max()"
   ]
  },
  {
   "cell_type": "code",
   "execution_count": 22,
   "id": "f27add76",
   "metadata": {},
   "outputs": [
    {
     "data": {
      "text/plain": [
       "169.98315083655157"
      ]
     },
     "execution_count": 22,
     "metadata": {},
     "output_type": "execute_result"
    }
   ],
   "source": [
    "trip_mph.mean()"
   ]
  },
  {
   "cell_type": "markdown",
   "id": "24dd2aa1",
   "metadata": {},
   "source": [
    "In this mission we learned:\n",
    "\n",
    "How vectorization makes our code faster.  \n",
    "About n-dimensional arrays, and NumPy's ndarrays.  \n",
    "How to select specific items, rows, columns, 1D slices, and 2D slices from ndarrays.  \n",
    "How to apply simple calculations to entire ndarrays.  \n",
    "How to use vectorized methods to perform calculations across either axis of ndarrays.  \n",
    "In the next mission, we'll continue to work with the NYC taxi data as we learn about boolean indexing, one of the most powerful tools when working with data in NumPy and pandas."
   ]
  }
 ],
 "metadata": {
  "kernelspec": {
   "display_name": "Python 3",
   "language": "python",
   "name": "python3"
  },
  "language_info": {
   "codemirror_mode": {
    "name": "ipython",
    "version": 3
   },
   "file_extension": ".py",
   "mimetype": "text/x-python",
   "name": "python",
   "nbconvert_exporter": "python",
   "pygments_lexer": "ipython3",
   "version": "3.8.5"
  }
 },
 "nbformat": 4,
 "nbformat_minor": 5
}
